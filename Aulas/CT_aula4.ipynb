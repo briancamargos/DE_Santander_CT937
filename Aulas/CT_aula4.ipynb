{
 "cells": [
  {
   "cell_type": "markdown",
   "metadata": {},
   "source": [
    "# Listas, Índices, Iterações de listas, Métodos de listas\n",
    "\n",
    "E se quisermos fazer o programa que a pessoa digita 10 números e dizemos o maior, conseguimos?\n",
    "\n",
    "E se quisermos o 2° maior? E se quisermos o 5º? \n",
    "\n",
    "Podemos resolver com **listas**"
   ]
  },
  {
   "cell_type": "markdown",
   "metadata": {},
   "source": [
    "- Listas\n",
    "\n",
    "Listas são coleções de objetos em Python e é expressada em `[]`"
   ]
  },
  {
   "cell_type": "code",
   "execution_count": 6,
   "metadata": {},
   "outputs": [],
   "source": [
    "lista_1 = [] # lista vazia\n",
    "lista_2 = [1, 2, 3, 4]\n",
    "lista_3 = list() # criar uma lista -> neste caso é vazia\n",
    "lista_4 = [1, 2.5, 3, 4]\n",
    "lista_5 = [1, 2.0, 'três'] # misturando int, float e string"
   ]
  },
  {
   "cell_type": "code",
   "execution_count": 8,
   "metadata": {},
   "outputs": [],
   "source": [
    "lista =  [1, 3, 5, 7, 9, 11, 13, 15, 17, 21] # 10 elementos\n",
    "# índices 0  1  2  3  4  5   6   7   8   9  -> No python sempre começa no ZERO\n"
   ]
  },
  {
   "cell_type": "code",
   "execution_count": 9,
   "metadata": {},
   "outputs": [
    {
     "data": {
      "text/plain": [
       "[1, 3, 5, 7, 9, 11, 13, 15, 17, 21]"
      ]
     },
     "execution_count": 9,
     "metadata": {},
     "output_type": "execute_result"
    }
   ],
   "source": [
    "# Em listas, a posição dos elementos é importante \n",
    "lista"
   ]
  },
  {
   "cell_type": "code",
   "execution_count": 11,
   "metadata": {},
   "outputs": [
    {
     "name": "stdout",
     "output_type": "stream",
     "text": [
      "10\n"
     ]
    }
   ],
   "source": [
    "# Podemos saber a quantidade de elementos da lista\n",
    "len(lista)\n",
    "\n",
    "print(len(lista))"
   ]
  },
  {
   "cell_type": "code",
   "execution_count": 14,
   "metadata": {},
   "outputs": [
    {
     "name": "stdout",
     "output_type": "stream",
     "text": [
      "1\n",
      "3\n",
      "5\n",
      "7\n",
      "9\n",
      "11\n",
      "21\n"
     ]
    },
    {
     "ename": "IndexError",
     "evalue": "list index out of range",
     "output_type": "error",
     "traceback": [
      "\u001b[1;31m---------------------------------------------------------------------------\u001b[0m",
      "\u001b[1;31mIndexError\u001b[0m                                Traceback (most recent call last)",
      "\u001b[1;32m~\\AppData\\Local\\Temp/ipykernel_78768/4239405797.py\u001b[0m in \u001b[0;36m<module>\u001b[1;34m\u001b[0m\n\u001b[0;32m     14\u001b[0m \u001b[0mprint\u001b[0m\u001b[1;33m(\u001b[0m\u001b[0mlista\u001b[0m\u001b[1;33m[\u001b[0m\u001b[1;36m9\u001b[0m\u001b[1;33m]\u001b[0m\u001b[1;33m)\u001b[0m\u001b[1;33m\u001b[0m\u001b[1;33m\u001b[0m\u001b[0m\n\u001b[0;32m     15\u001b[0m \u001b[1;33m\u001b[0m\u001b[0m\n\u001b[1;32m---> 16\u001b[1;33m \u001b[0mprint\u001b[0m\u001b[1;33m(\u001b[0m\u001b[0mlista\u001b[0m\u001b[1;33m[\u001b[0m\u001b[1;36m10\u001b[0m\u001b[1;33m]\u001b[0m\u001b[1;33m)\u001b[0m\u001b[1;33m\u001b[0m\u001b[1;33m\u001b[0m\u001b[0m\n\u001b[0m",
      "\u001b[1;31mIndexError\u001b[0m: list index out of range"
     ]
    }
   ],
   "source": [
    "# Podemos acessar os elementos da lista\n",
    "print(lista[0]) # mostrar o valor da posição zero da variável lista\n",
    "\n",
    "print(lista[1])\n",
    "\n",
    "print(lista[2])\n",
    "\n",
    "print(lista[3])\n",
    "\n",
    "print(lista[4])\n",
    "\n",
    "print(lista[5])\n",
    "\n",
    "print(lista[9])\n",
    "\n",
    "print(lista[10]) # Dá erro pois não tem a posição de índice 10 (lembrando que começa em zero)"
   ]
  },
  {
   "cell_type": "code",
   "execution_count": 27,
   "metadata": {},
   "outputs": [
    {
     "name": "stdout",
     "output_type": "stream",
     "text": [
      "[1, 3, 5, 7, 9, 11, 13, 15, 17, 21]\n",
      "[1, 3, 5]\n",
      "[1, 3, 5]\n",
      "[13, 15, 17, 21]\n",
      "[13, 15, 17, 21]\n",
      "[7, 9, 11]\n",
      "[3, 5, 7, 9, 11, 13, 15]\n",
      "[3, 7, 11, 15]\n"
     ]
    }
   ],
   "source": [
    "# podemos quebrar as listas \n",
    "\n",
    "print(lista[:]) # lista[inicio:fim]       [:] -> todos os valores\n",
    "\n",
    "print(lista[0:3]) #3 primeiros elementos da lista\n",
    "print(lista[:3]) #3 primeiros elementos da lista\n",
    "\n",
    "\n",
    "print(lista[6:10]) #do valor 13 até o final  ---> pq o último valor é exclusivo (ou seja, não é incluído)\n",
    "print(lista[6:]) #do valor 13 até o final\n",
    "\n",
    "print(lista[3:6])\n",
    "\n",
    "print(lista[1:8])\n",
    "print(lista[1:8:2]) # do início ao fim em passos --> lista[inicio:fim:passo]\n"
   ]
  },
  {
   "cell_type": "code",
   "execution_count": 34,
   "metadata": {},
   "outputs": [
    {
     "name": "stdout",
     "output_type": "stream",
     "text": [
      "[1, 3, 11, 7, 9, 11, 13, 15, 17, 21]\n"
     ]
    }
   ],
   "source": [
    "# podemos substituir um valor da lista\n",
    "lista[2] = 11 # subsituindo o valor 5 pelo 11 usando o índice 2\n",
    "\n",
    "print(lista)"
   ]
  },
  {
   "cell_type": "code",
   "execution_count": 35,
   "metadata": {},
   "outputs": [],
   "source": [
    "# podemos acrescentar valores na lista --> usando a função append\n",
    "\n",
    "lista.append(99) # Acrescenta o valor na última posição"
   ]
  },
  {
   "cell_type": "code",
   "execution_count": 36,
   "metadata": {},
   "outputs": [
    {
     "name": "stdout",
     "output_type": "stream",
     "text": [
      "[1, 3, 11, 7, 9, 11, 13, 15, 17, 21, 99]\n"
     ]
    }
   ],
   "source": [
    "print(lista)"
   ]
  },
  {
   "cell_type": "markdown",
   "metadata": {},
   "source": [
    "Existem várias outras funções/métodos de listas que vocês irão no próximo módulo, como:\n",
    "\n",
    "- insert\n",
    "- remove\n",
    "- pop\n",
    "- sorted\n",
    "- reverse\n",
    "- index\n",
    "- max, min, len\n",
    "    "
   ]
  },
  {
   "cell_type": "code",
   "execution_count": 54,
   "metadata": {},
   "outputs": [
    {
     "name": "stdout",
     "output_type": "stream",
     "text": [
      "[]\n"
     ]
    }
   ],
   "source": [
    "# como adicionar vários elementos a uma lista enquanto o usuário fornece os valores? Se o usuário digitar o 0, finaliza o programa.\n",
    "\n",
    "lista = []\n",
    "numero = int(input('Digite um número: '))\n",
    "lista.append(numero)\n",
    "\n",
    "while numero != 0:\n",
    "    numero = int(input('Digite um número: '))\n",
    "    lista.append(numero)\n",
    "print(lista)"
   ]
  },
  {
   "cell_type": "markdown",
   "metadata": {},
   "source": [
    "Vamos percorrer a lista"
   ]
  },
  {
   "cell_type": "code",
   "execution_count": 61,
   "metadata": {},
   "outputs": [
    {
     "name": "stdout",
     "output_type": "stream",
     "text": [
      "indice 0\n",
      "indice 1\n",
      "indice 2\n",
      "indice 3\n",
      "indice 4\n",
      "indice 5\n",
      "36\n"
     ]
    }
   ],
   "source": [
    "# Dada uma lista de números, somar os elementos dessa lista usando os índices\n",
    "\n",
    "numeros = [1, 3, 5, 7, 9, 11]\n",
    "soma = 0\n",
    "indice = 0\n",
    "\n",
    "while indice < len(numeros): # substituindo o valor 5 por len(numeros) para ficar genérico\n",
    "    print('indice', indice)\n",
    "    soma = soma + numeros[indice]\n",
    "    indice += 1 # significa indice = indice + 1\n",
    "\n",
    "print(soma)"
   ]
  },
  {
   "cell_type": "code",
   "execution_count": 63,
   "metadata": {},
   "outputs": [
    {
     "data": {
      "text/plain": [
       "36"
      ]
     },
     "execution_count": 63,
     "metadata": {},
     "output_type": "execute_result"
    }
   ],
   "source": [
    "sum(numeros) # outra forma de somar todos os elementos de uma lista"
   ]
  },
  {
   "cell_type": "code",
   "execution_count": 64,
   "metadata": {},
   "outputs": [
    {
     "name": "stdout",
     "output_type": "stream",
     "text": [
      "1\n",
      "3\n",
      "5\n",
      "7\n",
      "9\n"
     ]
    }
   ],
   "source": [
    "# Crie uma lista qualquer e imprima cada um dos elementos usando while\n",
    "\n",
    "numeros = [1, 3, 5, 7, 9]\n",
    "indice = 0\n",
    "\n",
    "while indice < len(numeros):\n",
    "    print(numeros[indice])\n",
    "    indice += 1"
   ]
  },
  {
   "cell_type": "code",
   "execution_count": 66,
   "metadata": {},
   "outputs": [
    {
     "name": "stdout",
     "output_type": "stream",
     "text": [
      "[0, 1, 2, 3, 4]\n"
     ]
    }
   ],
   "source": [
    "# Crie uma lista crescente (começando do 0) com a quantidade de elementos dada pelo usuário\n",
    "\n",
    "numero = int(input('Digite a quantidade da lista:'))\n",
    "\n",
    "lista = []\n",
    "indice = 0\n",
    "while indice < numero:\n",
    "    lista.append(indice)\n",
    "    indice += 1\n",
    "print(lista)"
   ]
  },
  {
   "cell_type": "code",
   "execution_count": 69,
   "metadata": {},
   "outputs": [
    {
     "data": {
      "text/plain": [
       "range(0, 5)"
      ]
     },
     "execution_count": 69,
     "metadata": {},
     "output_type": "execute_result"
    }
   ],
   "source": [
    "# Poderíamos substituir tudo por range(valor)\n",
    "\n",
    "range(5) # [0, 1, 2, 3, 4]"
   ]
  },
  {
   "cell_type": "markdown",
   "metadata": {},
   "source": [
    "Maneiras de percorrer uma lista\n",
    "\n",
    "numeros = [1, 3, 5, 7, 9]\n",
    "\n",
    "- Usando while\n",
    "\n",
    "Pros: Eu sei não só o elemento mas sei o indice também   \n",
    "Contra: Eu preciso controlar o indice\n",
    "\n",
    "```python\n",
    "contador = 0\n",
    "while (contador < len(numeros)):\n",
    "    print(numeros[contador])\n",
    "    contador = contador + 1  Se eu esquecer essa linha\n",
    "```\n",
    "\n",
    "\n",
    "- Jeito intermediario: for in range\n",
    "\n",
    "Pros: Sei o indice, não preciso controlar o loop  \n",
    "Contra: Precisa saber usar a função range  \n",
    "range(5) ->  [0, 1, 2, 3, 4]\n",
    "\n",
    "```python\n",
    "numeros = [1, 3, 5, 7, 9]\n",
    "for indice in range(len(numeros)):\n",
    "    print(numeros[indice])\n",
    "```\n",
    "\n",
    "\n",
    "- Usando só for\n",
    "\n",
    "Pros: não preciso me preocupar com o indice  \n",
    "Contra: não sei indice\n",
    "\n",
    "```python\n",
    "numeros = [1, 3, 5, 7, 9]\n",
    "\n",
    "for numero in numeros:  numero é uma especie de variavel temporaria\n",
    "    print(numero)\n",
    "```"
   ]
  },
  {
   "cell_type": "markdown",
   "metadata": {},
   "source": []
  },
  {
   "cell_type": "markdown",
   "metadata": {},
   "source": [
    "Vamos aos exemplos:"
   ]
  },
  {
   "cell_type": "code",
   "execution_count": 74,
   "metadata": {},
   "outputs": [
    {
     "name": "stdout",
     "output_type": "stream",
     "text": [
      "1\n",
      "3\n",
      "5\n",
      "7\n",
      "9\n",
      "1\n",
      "3\n",
      "5\n",
      "7\n",
      "9\n"
     ]
    }
   ],
   "source": [
    "numeros = [1, 3, 5, 7, 9] # tenho essa lista\n",
    "# imprimir todos os elementos dessa lista sem usar o while\n",
    "\n",
    "print(numeros[0]) # ---> numeros[i]\n",
    "print(numeros[1])\n",
    "print(numeros[2])\n",
    "print(numeros[3])\n",
    "print(numeros[4])\n",
    "\n",
    "\n",
    "for i in range(5): #range é exclusivo range(5) = range(0,5) = range(inicio,fim)\n",
    "    print(numeros[i])\n",
    "    \n",
    "    "
   ]
  },
  {
   "cell_type": "code",
   "execution_count": 75,
   "metadata": {},
   "outputs": [
    {
     "name": "stdout",
     "output_type": "stream",
     "text": [
      "1\n",
      "3\n",
      "5\n",
      "7\n",
      "9\n",
      "11\n"
     ]
    }
   ],
   "source": [
    "numeros = [1,3,5,7,9,11]\n",
    "\n",
    "for i in range(len(numeros)): #range é exclusivo range(5) = range(0,5) = range(inicio,fim)\n",
    "    print(numeros[i])"
   ]
  },
  {
   "cell_type": "code",
   "execution_count": 67,
   "metadata": {},
   "outputs": [
    {
     "name": "stdout",
     "output_type": "stream",
     "text": [
      "range(0, 5)\n"
     ]
    }
   ],
   "source": [
    "print(range(5))"
   ]
  },
  {
   "cell_type": "code",
   "execution_count": 68,
   "metadata": {},
   "outputs": [
    {
     "data": {
      "text/plain": [
       "[0, 1, 2, 3, 4]"
      ]
     },
     "execution_count": 68,
     "metadata": {},
     "output_type": "execute_result"
    }
   ],
   "source": [
    "list(range(5))"
   ]
  },
  {
   "cell_type": "markdown",
   "metadata": {},
   "source": [
    "Outra forma de usar o for"
   ]
  },
  {
   "cell_type": "code",
   "execution_count": 78,
   "metadata": {},
   "outputs": [
    {
     "name": "stdout",
     "output_type": "stream",
     "text": [
      "1\n",
      "3\n",
      "5\n",
      "7\n",
      "9\n"
     ]
    }
   ],
   "source": [
    "numeros = [1, 3, 5, 7, 9]\n",
    "\n",
    "for item in numeros:\n",
    "    print(item)"
   ]
  },
  {
   "cell_type": "markdown",
   "metadata": {},
   "source": [
    "Exercícios"
   ]
  },
  {
   "cell_type": "code",
   "execution_count": 80,
   "metadata": {},
   "outputs": [
    {
     "name": "stdout",
     "output_type": "stream",
     "text": [
      "a\n",
      "b\n",
      "c\n",
      "d\n"
     ]
    }
   ],
   "source": [
    "# 1. Crie uma lista qualquer e faça um programa que imprima cada elemento da lista usando o for.\n",
    "\n",
    "list01 = ['a','b','c','d']\n",
    "\n",
    "for elemento in list01:\n",
    "  print(elemento)\n",
    "\n"
   ]
  },
  {
   "cell_type": "code",
   "execution_count": 81,
   "metadata": {},
   "outputs": [
    {
     "name": "stdout",
     "output_type": "stream",
     "text": [
      "Ana\n",
      "Arthur\n",
      "Beatriz\n",
      "Diego\n",
      "Juacy\n",
      "Luiza\n",
      "Rafael\n",
      "Wagner\n"
     ]
    }
   ],
   "source": [
    "\n",
    "# Cria uma lista de alunos\n",
    "alunos = ['Ana', 'Arthur', 'Beatriz', 'Diego', 'Juacy', 'Luiza', 'Rafael', 'Wagner']\n",
    "\n",
    "# Para cada aluno em alunos...\n",
    "for aluno in alunos:\n",
    "\n",
    "    # ...imprime o nome do aluno\n",
    "    print(aluno)"
   ]
  },
  {
   "cell_type": "code",
   "execution_count": 84,
   "metadata": {},
   "outputs": [
    {
     "name": "stdout",
     "output_type": "stream",
     "text": [
      "Item: 1\n",
      "Item: 3\n",
      "Item: 5\n",
      "Item: 7\n",
      "Item: 9\n",
      "Item: 11\n",
      "Item: 13\n"
     ]
    }
   ],
   "source": [
    "# 2. Faça um programa que imprima todos os itens de uma lista usando while e compare com o exercício 1.\n",
    "\n",
    "\n",
    "lista = [1, 3, 5, 7, 9, 11, 13]\n",
    "contador = 0\n",
    "while(contador < len(lista)):\n",
    "    print(f\"Item: {lista[contador]}\")\n",
    "    contador += 1"
   ]
  },
  {
   "cell_type": "code",
   "execution_count": 85,
   "metadata": {},
   "outputs": [
    {
     "name": "stdout",
     "output_type": "stream",
     "text": [
      "[0, 1, 2, 3, 4, 5]\n"
     ]
    }
   ],
   "source": [
    "# 3. Faça um programa que peça para o usuário digitar um número n e imprima uma lista com todos os números de 0 a n-1.\n",
    "\n",
    "# Cria uma lista vazia\n",
    "lista = []\n",
    "\n",
    "# Pede o valor de n para o usuário\n",
    "n = int(input(\"n = \"))\n",
    "\n",
    "# Para cara número no intervalo (0, n-1)...\n",
    "for numero in range(n):\n",
    "\n",
    "    # ...adiciona o número à lista\n",
    "    lista.append(numero)\n",
    "\n",
    "# Imprime a lista\n",
    "print(lista)"
   ]
  },
  {
   "cell_type": "code",
   "execution_count": 86,
   "metadata": {},
   "outputs": [
    {
     "name": "stdout",
     "output_type": "stream",
     "text": [
      "5\n"
     ]
    }
   ],
   "source": [
    "# 4. Faça um programa que olhe todos os itens de uma lista e diga quantos deles são pares. \n",
    "numeros = [1, 2, 3, 4, 5, 6, 7, 8, 9, 10]\n",
    "pares = 0\n",
    "\n",
    "for elemento in numeros:\n",
    "  if elemento % 2 == 0:\n",
    "    pares += 1\n",
    "\n",
    "print(pares)\n"
   ]
  },
  {
   "cell_type": "code",
   "execution_count": 88,
   "metadata": {},
   "outputs": [
    {
     "name": "stdout",
     "output_type": "stream",
     "text": [
      "Existem 5 números pares na sua lista\n",
      "[4, 6, 8, 10, 12]\n"
     ]
    }
   ],
   "source": [
    "lista = [1,3,4,5,6,7,8,9,10,12]\n",
    "pares = []\n",
    "for i in lista:\n",
    "    if i%2==0:\n",
    "        pares.append(i)\n",
    "print(f\"Existem {len(pares)} números pares na sua lista\")\n",
    "print(pares)"
   ]
  },
  {
   "cell_type": "code",
   "execution_count": null,
   "metadata": {},
   "outputs": [],
   "source": [
    "# 5. Faça um programa que imprima o maior número de uma lista, sem usar o método max().\n",
    "\n"
   ]
  },
  {
   "cell_type": "code",
   "execution_count": null,
   "metadata": {},
   "outputs": [],
   "source": [
    "# 6. Agora usando o método max() faça um programa que imprima os três maiores números de uma lista. \n",
    "\n",
    "# 7. Faça um programa que, dadas duas listas de mesmo tamanho, crie uma nova lista com cada elemento igual a soma dos elementos da lista 1 com os da lista 2, na mesma posição. \n",
    "\n",
    "# 8. Faça um programa que dadas duas listas de mesmo tamanho, imprima o produto escalar entre elas. \n",
    "\n",
    "# 9. Faça um programa que pede para o usuário digitar 5 números e, ao final, imprime uma lista com os 5 números digitados pelo usuário (sem converter os números para int ou float). \n",
    "\n",
    "# 10. Pegue a lista gerada no exercício anterior e transforme cada um dos itens dessa lista em um float.\n",
    "\n",
    "# 11. Faça um Programa que peça as 4 notas bimestrais e mostre a média, usando listas.\n",
    "\n",
    "\n",
    "\n",
    "\n",
    "\n"
   ]
  }
 ],
 "metadata": {
  "kernelspec": {
   "display_name": "Python 3.10.7 64-bit",
   "language": "python",
   "name": "python3"
  },
  "language_info": {
   "codemirror_mode": {
    "name": "ipython",
    "version": 3
   },
   "file_extension": ".py",
   "mimetype": "text/x-python",
   "name": "python",
   "nbconvert_exporter": "python",
   "pygments_lexer": "ipython3",
   "version": "3.10.7"
  },
  "orig_nbformat": 4,
  "vscode": {
   "interpreter": {
    "hash": "8e422274af7bea950b99ce5931db79f336f723780200fdaaaa6fd2c62e737577"
   }
  }
 },
 "nbformat": 4,
 "nbformat_minor": 2
}
