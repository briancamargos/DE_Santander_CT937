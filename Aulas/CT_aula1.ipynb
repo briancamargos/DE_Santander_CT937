{
 "cells": [
  {
   "cell_type": "markdown",
   "id": "9fbd531b",
   "metadata": {},
   "source": [
    "# Alguns recados\n",
    "- Horários (início e intervalo)\n",
    "- Presença\n",
    "- Câmera\n",
    "- Vagas\n",
    "- Cronograma de aulas"
   ]
  },
  {
   "cell_type": "markdown",
   "id": "700cf6df",
   "metadata": {},
   "source": [
    "# IDE\n",
    "- Visual Studio Code - Extensão Jupyter\n",
    "- Colab google - https://colab.research.google.com/\n",
    "- Deep note - https://deepnote.com/\n",
    "- JupyterLite - https://jupyter.org/try\n",
    "- Kaggle Kernels - https://www.kaggle.com/\n",
    "\n",
    "- Diversas opções:\n",
    "  - https://cocalc.com/features/jupyter-notebook\n",
    "  - https://www.codingrooms.com/compiler/jupyter-notebook\n",
    "  - https://mybinder.org/"
   ]
  },
  {
   "cell_type": "markdown",
   "id": "46cc1557",
   "metadata": {},
   "source": [
    "## Tópicos da aula\n",
    "\n",
    " - Variáveis\n",
    " - Tipos básicos\n",
    " - Entradas/Saídas\n",
    " - Operadores Algébricos\n",
    " - Operadores de comparação"
   ]
  },
  {
   "cell_type": "markdown",
   "id": "1855565e",
   "metadata": {},
   "source": [
    "Notebook está no class: https://s3-sa-east-1.amazonaws.com/lcpi/776fc419-af6e-432a-a269-3a48f279b7b2.ipynb"
   ]
  },
  {
   "cell_type": "markdown",
   "id": "73c6063a",
   "metadata": {},
   "source": [
    "## Variáveis\n",
    "Variável é o nome dado ao tipo de conteúdo que pode apresentar diferentes valores enquanto o sistema está em execução. Tudo dependerá do comando do usuário e o tipo de operação que é realizado.  \n",
    "Imagine que você conhece uma nova pessoa. A variável seria o lugar no seu cérebro no qual você guarda, por exemplo, o nome desta pessoa, ou seja, é alocado um espaço para armazenar esta informação e posteriormente é passado o valor referente aquele dado.\n",
    "\n",
    "```\n",
    "nome = \"Renata\"\n",
    "```"
   ]
  },
  {
   "cell_type": "markdown",
   "id": "41b0fe06",
   "metadata": {},
   "source": [
    "## Tipos básicos\n",
    "\n",
    "Podemos ter informações relacionadas às outras pessoas como nome, idade e salário. Cada uma delas possui o que chamamos de tipos de variável. Os tipos de dados são os seguintes:"
   ]
  },
  {
   "cell_type": "code",
   "execution_count": 1,
   "id": "87037bf8",
   "metadata": {},
   "outputs": [
    {
     "data": {
      "text/plain": [
       "str"
      ]
     },
     "execution_count": 1,
     "metadata": {},
     "output_type": "execute_result"
    }
   ],
   "source": [
    "# Esta é uma forma de comentar o código. Toda esta informação não será processada\n",
    "# Podemos passar variáveis de texto (str) com aspas duplas\n",
    "nome = \"Renata\"\n",
    "type(nome)"
   ]
  },
  {
   "cell_type": "code",
   "execution_count": 2,
   "id": "74c191c8",
   "metadata": {},
   "outputs": [
    {
     "data": {
      "text/plain": [
       "str"
      ]
     },
     "execution_count": 2,
     "metadata": {},
     "output_type": "execute_result"
    }
   ],
   "source": [
    "# Ou aspas simples\n",
    "nome = 'Renata'\n",
    "type(nome)"
   ]
  },
  {
   "cell_type": "code",
   "execution_count": 3,
   "id": "175ac6dc",
   "metadata": {},
   "outputs": [
    {
     "data": {
      "text/plain": [
       "int"
      ]
     },
     "execution_count": 3,
     "metadata": {},
     "output_type": "execute_result"
    }
   ],
   "source": [
    "idade = 29\n",
    "type(idade)"
   ]
  },
  {
   "cell_type": "code",
   "execution_count": 5,
   "id": "4b819d51",
   "metadata": {},
   "outputs": [
    {
     "data": {
      "text/plain": [
       "float"
      ]
     },
     "execution_count": 5,
     "metadata": {},
     "output_type": "execute_result"
    }
   ],
   "source": [
    "idade = 29.\n",
    "type(idade)"
   ]
  },
  {
   "cell_type": "code",
   "execution_count": 6,
   "id": "3fc2316f",
   "metadata": {},
   "outputs": [
    {
     "data": {
      "text/plain": [
       "str"
      ]
     },
     "execution_count": 6,
     "metadata": {},
     "output_type": "execute_result"
    }
   ],
   "source": [
    "idade = \"29\"\n",
    "type(idade)"
   ]
  },
  {
   "cell_type": "code",
   "execution_count": 4,
   "id": "ca5d746d",
   "metadata": {},
   "outputs": [
    {
     "data": {
      "text/plain": [
       "float"
      ]
     },
     "execution_count": 4,
     "metadata": {},
     "output_type": "execute_result"
    }
   ],
   "source": [
    "salario = 1000.00 # Cuidado que no python o decimal é separado por .\n",
    "type(salario)"
   ]
  },
  {
   "cell_type": "code",
   "execution_count": 9,
   "id": "f2d8d93c",
   "metadata": {},
   "outputs": [
    {
     "data": {
      "text/plain": [
       "bool"
      ]
     },
     "execution_count": 9,
     "metadata": {},
     "output_type": "execute_result"
    }
   ],
   "source": [
    "certificado = True # Cuidado com o F maiúsculo -> True é diferente de true \n",
    "type(certificado)\n"
   ]
  },
  {
   "cell_type": "markdown",
   "id": "a1fcbea2",
   "metadata": {},
   "source": [
    "## Entradas\n",
    "\n",
    "Para solicitarmos entradas de informações a serem fornecidas pelo usuário podemos utilizar a função input. Com ela você poderá (opcional) passar uma mensagem instrutiva ao usuário do que deseja que ele insira.  \n",
    "No exemplo abaixo utilizaremos o input."
   ]
  },
  {
   "cell_type": "code",
   "execution_count": 10,
   "id": "41987074",
   "metadata": {},
   "outputs": [
    {
     "data": {
      "text/plain": [
       "'ahdahahdahad'"
      ]
     },
     "execution_count": 10,
     "metadata": {},
     "output_type": "execute_result"
    }
   ],
   "source": [
    "input()"
   ]
  },
  {
   "cell_type": "markdown",
   "id": "244e1407",
   "metadata": {},
   "source": [
    "**Intuição**  \n",
    "Veja que ele funciona, porém sem uma mensagem de qual informação é solicitada não é possível identificar o que se deve passar ao programa."
   ]
  },
  {
   "cell_type": "code",
   "execution_count": 11,
   "id": "3ebce9a5",
   "metadata": {},
   "outputs": [
    {
     "data": {
      "text/plain": [
       "'22'"
      ]
     },
     "execution_count": 11,
     "metadata": {},
     "output_type": "execute_result"
    }
   ],
   "source": [
    "input('Insira sua idade: ')"
   ]
  },
  {
   "cell_type": "markdown",
   "id": "0f74f098",
   "metadata": {},
   "source": [
    "**Variável**  \n",
    "Podemos guardar o valor passado pelo usuário numa variável"
   ]
  },
  {
   "cell_type": "code",
   "execution_count": 12,
   "id": "2ff45148",
   "metadata": {},
   "outputs": [],
   "source": [
    "idade = input('Insira sua idade: ')"
   ]
  },
  {
   "cell_type": "markdown",
   "id": "357d85ad",
   "metadata": {},
   "source": [
    "Repare nas aspas que saem quando utilizamos apenas a função input. Isso quer dizer que este valor capturado pelo programa é uma string, independente do que o usuário insira."
   ]
  },
  {
   "cell_type": "code",
   "execution_count": 13,
   "id": "c83c5dab",
   "metadata": {},
   "outputs": [
    {
     "data": {
      "text/plain": [
       "str"
      ]
     },
     "execution_count": 13,
     "metadata": {},
     "output_type": "execute_result"
    }
   ],
   "source": [
    "type(idade)"
   ]
  },
  {
   "cell_type": "markdown",
   "id": "a8304431",
   "metadata": {},
   "source": [
    "**Convertendo o tipo de dado**  \n",
    "Neste caso é interessante que a idade seja um número, visto que em geral o utilizamos para realizar contas, por exemplo. Para converter este valor para um inteiro, podemos fazer da seguinte forma:"
   ]
  },
  {
   "cell_type": "code",
   "execution_count": 14,
   "id": "f34c305d",
   "metadata": {},
   "outputs": [
    {
     "data": {
      "text/plain": [
       "22"
      ]
     },
     "execution_count": 14,
     "metadata": {},
     "output_type": "execute_result"
    }
   ],
   "source": [
    "int(idade)"
   ]
  },
  {
   "cell_type": "code",
   "execution_count": 15,
   "id": "574aef31",
   "metadata": {},
   "outputs": [
    {
     "data": {
      "text/plain": [
       "22.0"
      ]
     },
     "execution_count": 15,
     "metadata": {},
     "output_type": "execute_result"
    }
   ],
   "source": [
    "float(idade)"
   ]
  },
  {
   "cell_type": "code",
   "execution_count": 16,
   "id": "58314c4f",
   "metadata": {},
   "outputs": [
    {
     "data": {
      "text/plain": [
       "'22.0'"
      ]
     },
     "execution_count": 16,
     "metadata": {},
     "output_type": "execute_result"
    }
   ],
   "source": [
    "str(float(idade)) #idade é originalmente string, transformei para float e depois para string novamente"
   ]
  },
  {
   "cell_type": "code",
   "execution_count": 17,
   "id": "ec094784",
   "metadata": {},
   "outputs": [
    {
     "data": {
      "text/plain": [
       "22"
      ]
     },
     "execution_count": 17,
     "metadata": {},
     "output_type": "execute_result"
    }
   ],
   "source": [
    "int(float(idade))"
   ]
  },
  {
   "cell_type": "code",
   "execution_count": 18,
   "id": "d8d08f35",
   "metadata": {},
   "outputs": [
    {
     "ename": "ValueError",
     "evalue": "could not convert string to float: 'Renata'",
     "output_type": "error",
     "traceback": [
      "\u001b[1;31m---------------------------------------------------------------------------\u001b[0m",
      "\u001b[1;31mValueError\u001b[0m                                Traceback (most recent call last)",
      "\u001b[1;32m~\\AppData\\Local\\Temp/ipykernel_7188/455252767.py\u001b[0m in \u001b[0;36m<module>\u001b[1;34m\u001b[0m\n\u001b[1;32m----> 1\u001b[1;33m \u001b[0mfloat\u001b[0m\u001b[1;33m(\u001b[0m\u001b[1;34m'Renata'\u001b[0m\u001b[1;33m)\u001b[0m\u001b[1;33m\u001b[0m\u001b[1;33m\u001b[0m\u001b[0m\n\u001b[0m",
      "\u001b[1;31mValueError\u001b[0m: could not convert string to float: 'Renata'"
     ]
    }
   ],
   "source": [
    "float('Renata')"
   ]
  },
  {
   "cell_type": "code",
   "execution_count": 21,
   "id": "d3b86fd8",
   "metadata": {},
   "outputs": [
    {
     "data": {
      "text/plain": [
       "123"
      ]
     },
     "execution_count": 21,
     "metadata": {},
     "output_type": "execute_result"
    }
   ],
   "source": [
    "int('00123')"
   ]
  },
  {
   "cell_type": "markdown",
   "id": "17496823",
   "metadata": {},
   "source": [
    "E para simplificar ainda mais é comum que já realizemos a conversão da variável logo na chamada do input."
   ]
  },
  {
   "cell_type": "code",
   "execution_count": 22,
   "id": "d2c4e3b2",
   "metadata": {},
   "outputs": [],
   "source": [
    "idade = int(input('Insira sua idade: '))\n",
    "# Para valores do tipo ponto flutuante, ou seja, numéricos com valores decimais, utilizamos o float"
   ]
  },
  {
   "cell_type": "code",
   "execution_count": 23,
   "id": "1e3dfb3b",
   "metadata": {},
   "outputs": [
    {
     "data": {
      "text/plain": [
       "int"
      ]
     },
     "execution_count": 23,
     "metadata": {},
     "output_type": "execute_result"
    }
   ],
   "source": [
    "type(idade)"
   ]
  },
  {
   "cell_type": "markdown",
   "id": "90d69dd0",
   "metadata": {},
   "source": [
    "## Saídas\n",
    "\n",
    "Em diversas situações desejamos imprimir na tela o resultado de alguma operação que realizamos ou simplesmente emitirmos uma mensagem, para estas situações utilizamos o print."
   ]
  },
  {
   "cell_type": "code",
   "execution_count": 24,
   "id": "698d7080",
   "metadata": {},
   "outputs": [
    {
     "name": "stdout",
     "output_type": "stream",
     "text": [
      "\n"
     ]
    }
   ],
   "source": [
    "print()"
   ]
  },
  {
   "cell_type": "code",
   "execution_count": 25,
   "id": "ef8a8269",
   "metadata": {},
   "outputs": [
    {
     "name": "stdout",
     "output_type": "stream",
     "text": [
      "Você pode utilizar o print para imprimir na tela o que você quiser\n"
     ]
    }
   ],
   "source": [
    "print('Você pode utilizar o print para imprimir na tela o que você quiser')"
   ]
  },
  {
   "cell_type": "code",
   "execution_count": 26,
   "id": "4496e5c5",
   "metadata": {},
   "outputs": [
    {
     "name": "stdout",
     "output_type": "stream",
     "text": [
      "Aspas duplas também funcionam\n"
     ]
    }
   ],
   "source": [
    "print(\"Aspas duplas também funcionam\") # comentário no código, ou seja, ele não executa o que está a frente do #"
   ]
  },
  {
   "cell_type": "code",
   "execution_count": 27,
   "id": "219f320d",
   "metadata": {},
   "outputs": [
    {
     "name": "stdout",
     "output_type": "stream",
     "text": [
      "Podemos pular linha \n",
      "com este símbolo\n"
     ]
    }
   ],
   "source": [
    "print('Podemos pular linha \\ncom este símbolo') # \\n "
   ]
  },
  {
   "cell_type": "code",
   "execution_count": 29,
   "id": "efe7ded9",
   "metadata": {},
   "outputs": [
    {
     "name": "stdout",
     "output_type": "stream",
     "text": [
      "\tÉ possível utilizar a tabulação também\n"
     ]
    }
   ],
   "source": [
    "print('\\tÉ possível utilizar a tabulação também') # \\t"
   ]
  },
  {
   "cell_type": "code",
   "execution_count": 32,
   "id": "10426484",
   "metadata": {},
   "outputs": [
    {
     "name": "stdout",
     "output_type": "stream",
     "text": [
      "Também podemos\n",
      "usar o print\n",
      "várias vezes na mesma célula\n"
     ]
    }
   ],
   "source": [
    "print('Também podemos')\n",
    "print('usar o print')\n",
    "print('várias vezes na mesma célula')"
   ]
  },
  {
   "cell_type": "markdown",
   "id": "1ef1a7de",
   "metadata": {},
   "source": [
    "**Mais de um argumento**  \n",
    "Para imprimir mais de uma informação, o print permite inserir quantos argumentos forem necessários, desde que separados por vírgula. Veja o exemplo:"
   ]
  },
  {
   "cell_type": "code",
   "execution_count": 35,
   "id": "6db69189",
   "metadata": {},
   "outputs": [
    {
     "name": "stdout",
     "output_type": "stream",
     "text": [
      "Olá eu sou Renata muito prazer\n"
     ]
    }
   ],
   "source": [
    "print('Olá', 'eu sou Renata', 'muito prazer')"
   ]
  },
  {
   "cell_type": "markdown",
   "id": "1571b13e",
   "metadata": {},
   "source": [
    "**Print de variáveis**  \n",
    "Também é possível imprimir variáveis de forma simples, basta passar o nome dado para a variável dentro dos parênteses."
   ]
  },
  {
   "cell_type": "code",
   "execution_count": 36,
   "id": "d1de04d2",
   "metadata": {},
   "outputs": [
    {
     "name": "stdout",
     "output_type": "stream",
     "text": [
      "22\n"
     ]
    }
   ],
   "source": [
    "print(idade)"
   ]
  },
  {
   "cell_type": "markdown",
   "id": "b4dd8bd0",
   "metadata": {},
   "source": [
    "E se for necessário imprimir a mensagem 'Olá, eu sou Bruno Issamo\", de forma que o nome e o sobrenome sejam provenientes de variáveis nome e sobrenome."
   ]
  },
  {
   "cell_type": "code",
   "execution_count": 37,
   "id": "d59344c2",
   "metadata": {},
   "outputs": [],
   "source": [
    "nome = 'Renata'\n",
    "sobrenome = 'Marchese'"
   ]
  },
  {
   "cell_type": "code",
   "execution_count": 40,
   "id": "7cc122da",
   "metadata": {},
   "outputs": [
    {
     "name": "stdout",
     "output_type": "stream",
     "text": [
      "Eu sou Renata, tenho 22 anos\n"
     ]
    }
   ],
   "source": [
    "print('Eu sou Renata, tenho', idade, 'anos') # usando argumentos"
   ]
  },
  {
   "cell_type": "code",
   "execution_count": 41,
   "id": "45f721ef",
   "metadata": {},
   "outputs": [
    {
     "name": "stdout",
     "output_type": "stream",
     "text": [
      "Eu sou Renata e tenho 22 anos\n"
     ]
    }
   ],
   "source": [
    "print('Eu sou {} e tenho {} anos'.format(nome, idade)) #outra forma de usar o print"
   ]
  },
  {
   "cell_type": "markdown",
   "id": "5101f9cb",
   "metadata": {},
   "source": [
    "**Print com f string**  \n",
    "Outra forma de utilizarmos o print com variáveis é por meio do que chamamos de f string."
   ]
  },
  {
   "cell_type": "code",
   "execution_count": 42,
   "id": "948c0517",
   "metadata": {},
   "outputs": [
    {
     "name": "stdout",
     "output_type": "stream",
     "text": [
      "Eu tenho 22 anos\n"
     ]
    }
   ],
   "source": [
    "print(f'Eu tenho {idade} anos')"
   ]
  },
  {
   "cell_type": "markdown",
   "id": "b86dca2d",
   "metadata": {},
   "source": [
    "**Bora praticar!**  \n",
    "Escreva um programa que receba seu nome, sua idade e hobby e escreva uma única sentença que seja, por exemplo, \"Meu nome é Renata, tenho 22 anos e meu hobby é viajar\" "
   ]
  },
  {
   "cell_type": "code",
   "execution_count": 48,
   "id": "94e9783f",
   "metadata": {},
   "outputs": [
    {
     "name": "stdout",
     "output_type": "stream",
     "text": [
      "Hi! My name is Re, I'm 22 years old and my hobby is viajar\n"
     ]
    }
   ],
   "source": [
    "name = input('Enter your name: ')\n",
    "age = int(input('Enter your age: '))\n",
    "hobby = input('What\\'s your hobby? ')\n",
    "\n",
    "print(f\"Hi! My name is {name}, I'm {age} years old and my hobby is {hobby}\")"
   ]
  },
  {
   "cell_type": "code",
   "execution_count": 49,
   "id": "7738fc9c",
   "metadata": {},
   "outputs": [
    {
     "name": "stdout",
     "output_type": "stream",
     "text": [
      "Meu nome é Re, tenho 22 anos e meu hobby é viajar\n"
     ]
    }
   ],
   "source": [
    "print(f'Meu nome é {input(\"Nome:\")}, tenho {input(\"Idade:\")} anos e meu hobby é {input(\"Hobby:\")}')"
   ]
  },
  {
   "cell_type": "markdown",
   "id": "feea987d",
   "metadata": {},
   "source": [
    "## Operadores Algébricos\n",
    "\n",
    "Rotineiramente nos deparamos com a necessidade de realizarmos cálculos, para isso podemos utilizar os operadores algébricos como conhecemos na matemática tradicional."
   ]
  },
  {
   "cell_type": "markdown",
   "id": "ae611470",
   "metadata": {},
   "source": [
    "**Soma de dois valores**"
   ]
  },
  {
   "cell_type": "code",
   "execution_count": 51,
   "id": "da3218b0",
   "metadata": {},
   "outputs": [
    {
     "data": {
      "text/plain": [
       "4"
      ]
     },
     "execution_count": 51,
     "metadata": {},
     "output_type": "execute_result"
    }
   ],
   "source": [
    "2 + 2 #2+2"
   ]
  },
  {
   "cell_type": "code",
   "execution_count": 52,
   "id": "4657ef96",
   "metadata": {},
   "outputs": [
    {
     "name": "stdout",
     "output_type": "stream",
     "text": [
      "4\n"
     ]
    }
   ],
   "source": [
    "print(2 + 2)"
   ]
  },
  {
   "cell_type": "code",
   "execution_count": 53,
   "id": "5a525336",
   "metadata": {},
   "outputs": [
    {
     "name": "stdout",
     "output_type": "stream",
     "text": [
      "3\n"
     ]
    }
   ],
   "source": [
    "print(8 - 5)"
   ]
  },
  {
   "cell_type": "markdown",
   "id": "763aabb9",
   "metadata": {},
   "source": [
    "Resumindo:"
   ]
  },
  {
   "cell_type": "markdown",
   "id": "3742cf67",
   "metadata": {},
   "source": [
    "| Símbolo | Operação        |\n",
    "|---------|-----------------|\n",
    "|    +    | soma            |\n",
    "|    -    | subtração       |\n",
    "|    *    | multiplicação   |\n",
    "|    /    | divisão         |\n",
    "|    //   | divisão inteira |\n",
    "|    %    | resto           |\n",
    "|    **   | potência        |"
   ]
  },
  {
   "cell_type": "code",
   "execution_count": 54,
   "id": "fdc2beff",
   "metadata": {},
   "outputs": [
    {
     "data": {
      "text/plain": [
       "3"
      ]
     },
     "execution_count": 54,
     "metadata": {},
     "output_type": "execute_result"
    }
   ],
   "source": [
    "10//3"
   ]
  },
  {
   "cell_type": "code",
   "execution_count": 55,
   "id": "578aa220",
   "metadata": {},
   "outputs": [
    {
     "data": {
      "text/plain": [
       "1"
      ]
     },
     "execution_count": 55,
     "metadata": {},
     "output_type": "execute_result"
    }
   ],
   "source": [
    "10%3"
   ]
  },
  {
   "cell_type": "markdown",
   "id": "a0f058e7",
   "metadata": {},
   "source": [
    "**Utilizando variáveis**"
   ]
  },
  {
   "cell_type": "code",
   "execution_count": 58,
   "id": "d9afbe5f",
   "metadata": {},
   "outputs": [
    {
     "name": "stdout",
     "output_type": "stream",
     "text": [
      "25\n"
     ]
    }
   ],
   "source": [
    "valor_01 = 10\n",
    "valor_02 = 15\n",
    "\n",
    "print(valor_01 + valor_02)"
   ]
  },
  {
   "cell_type": "markdown",
   "id": "22af0c46",
   "metadata": {},
   "source": [
    "**Bora praticar!**  \n",
    "Com tudo que vimos até o momento faça um programa que solicite ao usuário que insira seu ano de nascimento. Desconsiderando o mês do ano de nascimento, emita uma mensagem dizendo quantos anos ele possui."
   ]
  },
  {
   "cell_type": "code",
   "execution_count": 63,
   "id": "d8165666",
   "metadata": {},
   "outputs": [
    {
     "name": "stdout",
     "output_type": "stream",
     "text": [
      "Você possui 22 anos de idade\n"
     ]
    }
   ],
   "source": [
    "ano = int(input('Digite seu ano de nascimento'))\n",
    "ano_atual = 2022\n",
    "idade = ano_atual - ano\n",
    "print(f'Você possui {idade} anos de idade')"
   ]
  },
  {
   "cell_type": "code",
   "execution_count": 64,
   "id": "5b21b09a",
   "metadata": {},
   "outputs": [
    {
     "name": "stdout",
     "output_type": "stream",
     "text": [
      "Your current age is 22\n"
     ]
    }
   ],
   "source": [
    "birth_year = input('Please enter your year of birth: ')\n",
    "age = 2022 - int(birth_year)\n",
    "print(f'Your current age is {age}')\n"
   ]
  },
  {
   "cell_type": "markdown",
   "id": "cceecb74",
   "metadata": {},
   "source": [
    "## Operadores de Comparação  \n",
    "Os operadores de comparação são aqueles que possuem o objetivo de analisar os valores de uma expressão e retornar um valor booleano, ou seja, verdadeiro (1) ou falso (0)."
   ]
  },
  {
   "cell_type": "code",
   "execution_count": 65,
   "id": "686664b0",
   "metadata": {},
   "outputs": [
    {
     "name": "stdout",
     "output_type": "stream",
     "text": [
      "True\n"
     ]
    }
   ],
   "source": [
    "print(3 > 2)"
   ]
  },
  {
   "cell_type": "code",
   "execution_count": 66,
   "id": "901845cb",
   "metadata": {},
   "outputs": [
    {
     "name": "stdout",
     "output_type": "stream",
     "text": [
      "False\n"
     ]
    }
   ],
   "source": [
    "print(2 > 3)"
   ]
  },
  {
   "cell_type": "code",
   "execution_count": 69,
   "id": "fa887873",
   "metadata": {},
   "outputs": [
    {
     "name": "stdout",
     "output_type": "stream",
     "text": [
      "False\n"
     ]
    }
   ],
   "source": [
    "print(2 == 3) # Cuidado, = é atribuição"
   ]
  },
  {
   "cell_type": "code",
   "execution_count": 70,
   "id": "ee8446df",
   "metadata": {},
   "outputs": [
    {
     "name": "stdout",
     "output_type": "stream",
     "text": [
      "True\n"
     ]
    }
   ],
   "source": [
    "print(2 == 2)"
   ]
  },
  {
   "cell_type": "code",
   "execution_count": 71,
   "id": "1f30bb6e",
   "metadata": {},
   "outputs": [
    {
     "name": "stdout",
     "output_type": "stream",
     "text": [
      "False\n"
     ]
    }
   ],
   "source": [
    "print(2 != 2) # diferença"
   ]
  },
  {
   "cell_type": "markdown",
   "id": "7035e16d",
   "metadata": {},
   "source": [
    "**Bora praticar!**  \n",
    "Imagine que você está implementando um sistema para verificar se os alunos de uma turma estudantil passaram na disciplina ou não. Para isso solicite que o usuário insira as notas das 4 provas realizadas por um estudante e calcule a média. Após isso, emita uma resposta booleana (True ou False) se o estudante passou na disciplina pensando que a média mínima para aprovação é que seja pelo menos 5."
   ]
  },
  {
   "cell_type": "code",
   "execution_count": null,
   "id": "52d8a4e8",
   "metadata": {
    "scrolled": true
   },
   "outputs": [],
   "source": []
  },
  {
   "cell_type": "markdown",
   "id": "87f38384",
   "metadata": {},
   "source": [
    "Crie um algoritmo que calcule o IMC (índice de massa corporal). O IMC é calculado com a formula PESO/(ALTURA ^ 2). Para isso, coloque as informações nas variáveis e ao final apresente o resultado como no exemplo: \"O IMC é 18\""
   ]
  },
  {
   "cell_type": "code",
   "execution_count": null,
   "id": "f82ed11d",
   "metadata": {},
   "outputs": [],
   "source": []
  },
  {
   "cell_type": "markdown",
   "id": "6c0555dc",
   "metadata": {},
   "source": [
    "Escreva um algoritmo que calcule (x + y) * (x + y). Os valores de x e y devem ser inseridos pelo usuário"
   ]
  },
  {
   "cell_type": "code",
   "execution_count": null,
   "id": "ce94fc00",
   "metadata": {},
   "outputs": [],
   "source": []
  }
 ],
 "metadata": {
  "kernelspec": {
   "display_name": "Python 3.10.7 64-bit",
   "language": "python",
   "name": "python3"
  },
  "language_info": {
   "codemirror_mode": {
    "name": "ipython",
    "version": 3
   },
   "file_extension": ".py",
   "mimetype": "text/x-python",
   "name": "python",
   "nbconvert_exporter": "python",
   "pygments_lexer": "ipython3",
   "version": "3.10.7"
  },
  "vscode": {
   "interpreter": {
    "hash": "8e422274af7bea950b99ce5931db79f336f723780200fdaaaa6fd2c62e737577"
   }
  }
 },
 "nbformat": 4,
 "nbformat_minor": 5
}
