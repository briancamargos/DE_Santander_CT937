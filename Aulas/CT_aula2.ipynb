{
 "cells": [
  {
   "cell_type": "markdown",
   "id": "d021f3ab",
   "metadata": {},
   "source": [
    "# Tópicos da aula \n",
    "\n",
    "- Estrutura condicional e controle de fluxo\n",
    "- Comando if\n",
    "- Comando else\n",
    "- Comando Elif"
   ]
  },
  {
   "cell_type": "markdown",
   "id": "cd0d2122",
   "metadata": {},
   "source": [
    "Imagine que o critério de aprovação em uma escola seja a média superior a 7.0 e presença superior a 75%. Neste caso, o aluno precisa atender a ambos os critérios para ser aprovado. Se ele tirou uma ótima nota, mas faltou demais, será reprovado. Se ele compareceu a todas as aulas, mas teve notas baixas, idem."
   ]
  },
  {
   "cell_type": "code",
   "execution_count": 1,
   "id": "457e4bb6",
   "metadata": {
    "ExecuteTime": {
     "end_time": "2022-10-13T01:12:32.401047Z",
     "start_time": "2022-10-13T01:12:28.921831Z"
    }
   },
   "outputs": [
    {
     "name": "stdout",
     "output_type": "stream",
     "text": [
      "O aluno foi aprovado? True\n"
     ]
    }
   ],
   "source": [
    "media = float(input('Digite a média do aluno: '))\n",
    "presenca = float(input('Digite as presenças do aluno: '))\n",
    "\n",
    "aprovado = media >= 7.0 and presenca >= 0.75\n",
    "print('O aluno foi aprovado?', aprovado)"
   ]
  },
  {
   "cell_type": "markdown",
   "id": "570c2421",
   "metadata": {},
   "source": [
    "**AND** é uma conjunção lógica e o **OR** é uma disjunção lógica. O **not** é a negação lógica.\n",
    "\n",
    "| *A*   | *B*   | *A and B* | *A or B* | *not A* |\n",
    "|-------|-------|-----------|----------|---------|\n",
    "| False | False | False     | False    | True    |\n",
    "| False | True  | False     | True     | True    |\n",
    "| True  | False | False     | True     | False   |\n",
    "| True  | True  | True      | True     | False   |\n",
    "\n"
   ]
  },
  {
   "cell_type": "markdown",
   "id": "5e5c4511",
   "metadata": {},
   "source": [
    "Será que conseguimos escrever o problema acima de uma forma mais fácil?"
   ]
  },
  {
   "cell_type": "markdown",
   "id": "0271e87f",
   "metadata": {},
   "source": [
    "## Estrutura condicional"
   ]
  },
  {
   "cell_type": "markdown",
   "id": "2eef494d",
   "metadata": {},
   "source": [
    "- if"
   ]
  },
  {
   "cell_type": "markdown",
   "id": "e50abf84",
   "metadata": {},
   "source": [
    "Obs.: Python é uma linguagem identada"
   ]
  },
  {
   "cell_type": "code",
   "execution_count": 4,
   "id": "999d0832",
   "metadata": {
    "ExecuteTime": {
     "end_time": "2022-10-13T00:34:26.457967Z",
     "start_time": "2022-10-13T00:34:20.965528Z"
    }
   },
   "outputs": [
    {
     "name": "stdout",
     "output_type": "stream",
     "text": [
      "Digite a nota1: 7\n",
      "Digite a nota2: 5\n",
      "Aprovado\n",
      "Média:  6.0\n"
     ]
    }
   ],
   "source": [
    "nota1 = float(input('Digite a nota1: '))\n",
    "nota2 = float(input('Digite a nota2: '))\n",
    "\n",
    "media = (nota1 + nota2) / 2\n",
    "\n",
    "if media >= 7.0: ## if -> comando condicional\n",
    "    print('Aprovado')\n",
    "\n",
    "print('Média: ', media)"
   ]
  },
  {
   "cell_type": "markdown",
   "id": "710ee05a",
   "metadata": {},
   "source": [
    "Está faltando alguma coisa"
   ]
  },
  {
   "cell_type": "code",
   "execution_count": 7,
   "id": "05895f94",
   "metadata": {
    "ExecuteTime": {
     "end_time": "2022-10-13T00:53:37.740031Z",
     "start_time": "2022-10-13T00:53:35.939338Z"
    }
   },
   "outputs": [
    {
     "name": "stdout",
     "output_type": "stream",
     "text": [
      "Digite a nota1: 5\n",
      "Digite a nota2: 5\n",
      "Reprovado\n",
      "Média:  5.0\n"
     ]
    }
   ],
   "source": [
    "nota1 = float(input('Digite a nota1: '))\n",
    "nota2 = float(input('Digite a nota2: '))\n",
    "\n",
    "media = (nota1 + nota2) / 2\n",
    "\n",
    "if media >= 7.0: \n",
    "    print('Aprovado')\n",
    "    \n",
    "if media < 7.0: # Python é uma linguagem identada\n",
    "    print('Reprovado')\n",
    "\n",
    "print('Média: ', media)"
   ]
  },
  {
   "cell_type": "markdown",
   "id": "688c2dfc",
   "metadata": {},
   "source": [
    "- else"
   ]
  },
  {
   "cell_type": "code",
   "execution_count": 9,
   "id": "0e058d59",
   "metadata": {
    "ExecuteTime": {
     "end_time": "2022-10-13T00:55:41.721790Z",
     "start_time": "2022-10-13T00:55:37.335509Z"
    }
   },
   "outputs": [
    {
     "name": "stdout",
     "output_type": "stream",
     "text": [
      "Digite a nota1: 7\n",
      "Digite a nota2: 4\n",
      "Reprovado\n",
      "Média:  5.5\n"
     ]
    }
   ],
   "source": [
    "nota1 = float(input('Digite a nota1: '))\n",
    "nota2 = float(input('Digite a nota2: '))\n",
    "\n",
    "media = (nota1 + nota2) / 2\n",
    "\n",
    "if media >= 7.0: \n",
    "    print('Aprovado')\n",
    "else: ## O else nunca tem nada entre parentesis\n",
    "    print('Reprovado')\n",
    "\n",
    "print('Média: ', media)"
   ]
  },
  {
   "cell_type": "markdown",
   "id": "276dfaa6",
   "metadata": {},
   "source": [
    "Vamos acrescentar a presença para aprovação"
   ]
  },
  {
   "cell_type": "code",
   "execution_count": 11,
   "id": "d2eac4ae",
   "metadata": {
    "ExecuteTime": {
     "end_time": "2022-10-13T00:59:42.640209Z",
     "start_time": "2022-10-13T00:59:38.528568Z"
    }
   },
   "outputs": [
    {
     "name": "stdout",
     "output_type": "stream",
     "text": [
      "Digite a nota1: 5\n",
      "Digite a nota2: 5\n",
      "Digite a presença: 0.5\n",
      "Reprovado\n",
      "Média: 5.0 e presença: 0.5\n"
     ]
    }
   ],
   "source": [
    "nota1 = float(input('Digite a nota1: '))\n",
    "nota2 = float(input('Digite a nota2: '))\n",
    "presenca =  float(input('Digite a presença: '))\n",
    "\n",
    "media = (nota1 + nota2) / 2\n",
    "\n",
    "if media >= 7.0 and presenca >= 0.75: \n",
    "    print('Aprovado')\n",
    "else: ## O else nunca tem nada entre parentesis\n",
    "    print('Reprovado')\n",
    "\n",
    "print(f'Média é {media} e presença é {presenca}')\n",
    "\n",
    "print('Média é {} e presença é {}'.format(media, presenca))\n",
    "\n",
    "print('Média é', media, 'e presença é', presenca)"
   ]
  },
  {
   "cell_type": "markdown",
   "id": "0ef2ed99",
   "metadata": {},
   "source": [
    "Vamos incluir a recuperação nesse exemplo (para facilitar, vamos deixar de lado a presença). O aluno tem direito a recuperação se a média é maior que 5."
   ]
  },
  {
   "cell_type": "code",
   "execution_count": 14,
   "id": "48df6e4b",
   "metadata": {
    "ExecuteTime": {
     "end_time": "2022-10-13T02:10:53.323666Z",
     "start_time": "2022-10-13T02:10:49.694866Z"
    }
   },
   "outputs": [
    {
     "name": "stdout",
     "output_type": "stream",
     "text": [
      "Digite a nota1: 5\n",
      "Digite a nota2: 5\n",
      "Recuperação\n",
      "Média: 5.0\n"
     ]
    }
   ],
   "source": [
    "nota1 = float(input('Digite a nota1: '))\n",
    "nota2 = float(input('Digite a nota2: '))\n",
    "\n",
    "media = (nota1 + nota2) / 2\n",
    "\n",
    "if media >= 7.0 and presenca >= 0.75:\n",
    "    print('Aprovado')\n",
    "elif media >= 5:      # Acrescentamos o else if = elif\n",
    "    print('Recuperação')\n",
    "else: ## O else nunca tem nada entre parentesis\n",
    "    print('Reprovado')\n",
    "\n",
    "print(f'Média: {media}')"
   ]
  },
  {
   "cell_type": "code",
   "execution_count": null,
   "id": "0de4cf5d",
   "metadata": {},
   "outputs": [],
   "source": [
    "media = float(input('Digite a média: '))\n",
    "\n",
    "\n",
    "if (media >= 7):   # se a media for maior igual a 7 ---> aprovado\n",
    "    print('Aprovado')\n",
    "elif media >= 5:\n",
    "    print('Recuperação')\n",
    "elif media >= 4.5:\n",
    "    print('Quase hein!')\n",
    "elif media ==10:\n",
    "    print('Parabéns')\n",
    "else:  # senão reprovado\n",
    "    print('Reprovado')"
   ]
  },
  {
   "cell_type": "markdown",
   "id": "7c713fe7",
   "metadata": {},
   "source": [
    "Bora praticar!"
   ]
  },
  {
   "cell_type": "markdown",
   "id": "221bc557",
   "metadata": {},
   "source": [
    "1) Faça um programa que peça a idade do usuário e imprima se ele é maior ou menor de 18 anos."
   ]
  },
  {
   "cell_type": "code",
   "execution_count": 7,
   "id": "3ee80027",
   "metadata": {
    "ExecuteTime": {
     "end_time": "2022-10-13T02:13:17.283724Z",
     "start_time": "2022-10-13T02:13:15.518483Z"
    }
   },
   "outputs": [
    {
     "name": "stdout",
     "output_type": "stream",
     "text": [
      "Maior de 18 anos!\n"
     ]
    }
   ],
   "source": [
    "idade = int(input(\"Digite sua idade: \"))\n",
    "\n",
    "if idade >= 18:\n",
    "  print('Maior de 18 anos!')\n",
    "else:\n",
    "  print('Menor de 18 anos!')"
   ]
  },
  {
   "cell_type": "code",
   "execution_count": 8,
   "id": "7572d672",
   "metadata": {},
   "outputs": [
    {
     "data": {
      "text/plain": [
       "'menor de 18 anos'"
      ]
     },
     "execution_count": 8,
     "metadata": {},
     "output_type": "execute_result"
    }
   ],
   "source": [
    "'maior de 18 anos' if int(input('Idade: ')) > 18 else 'menor de 18 anos'"
   ]
  },
  {
   "cell_type": "code",
   "execution_count": 9,
   "id": "cc0140fa",
   "metadata": {},
   "outputs": [
    {
     "name": "stdout",
     "output_type": "stream",
     "text": [
      "Maior de idade\n"
     ]
    }
   ],
   "source": [
    "idade = input('Qual é a sua idade?')\n",
    "idade = int(idade)\n",
    "if idade >= 18:\n",
    "    print('Maior de idade')\n",
    "else:\n",
    "    print('Menor de idade')\n",
    "\n"
   ]
  },
  {
   "cell_type": "markdown",
   "id": "20204a13",
   "metadata": {},
   "source": [
    "2) Faça um programa que peça um número e mostre se ele é positivo ou negativo. Alternativa: acrescentar nulo"
   ]
  },
  {
   "cell_type": "code",
   "execution_count": 12,
   "id": "e65cca82",
   "metadata": {},
   "outputs": [
    {
     "name": "stdout",
     "output_type": "stream",
     "text": [
      "Nulo\n"
     ]
    }
   ],
   "source": [
    "num = float(input('Digite um número:'))\n",
    "if num > 0:\n",
    "    print('Positivo')\n",
    "elif num == 0:\n",
    "    print('Nulo')\n",
    "else:\n",
    "    print('Negativo')"
   ]
  },
  {
   "cell_type": "code",
   "execution_count": 17,
   "id": "c87c5563",
   "metadata": {
    "ExecuteTime": {
     "end_time": "2022-10-13T02:13:30.446230Z",
     "start_time": "2022-10-13T02:13:25.107319Z"
    }
   },
   "outputs": [
    {
     "name": "stdout",
     "output_type": "stream",
     "text": [
      "Positivo!\n"
     ]
    }
   ],
   "source": [
    "num = int(input('Diga um número inteiro: ')) #cuidado com número 3.5\n",
    "if num > 0:\n",
    "    print('Positivo!')\n",
    "elif num == 0:\n",
    "    print('Zero!')\n",
    "else:\n",
    "    print('Negativo')"
   ]
  },
  {
   "cell_type": "markdown",
   "id": "83f073e8",
   "metadata": {},
   "source": [
    "3) Faça um programa que peça dois números e mostre o maior deles."
   ]
  },
  {
   "cell_type": "code",
   "execution_count": 18,
   "id": "41dbb8f3",
   "metadata": {
    "ExecuteTime": {
     "end_time": "2022-10-13T02:13:47.796296Z",
     "start_time": "2022-10-13T02:13:40.022621Z"
    }
   },
   "outputs": [
    {
     "name": "stdout",
     "output_type": "stream",
     "text": [
      "O 4.0 é o maior\n"
     ]
    }
   ],
   "source": [
    "num1 = float(input('Digite o primeiro número: '))\n",
    "num2 = float(input('Digite o segundo número: '))\n",
    "\n",
    "if num1 > num2:\n",
    "    print(f'O {num1} é o maior')\n",
    "elif num2 > num1:\n",
    "    print(f'O {num2} é o maior')\n",
    "else:\n",
    "    print('Os números são iguais')"
   ]
  },
  {
   "cell_type": "markdown",
   "id": "bfdf137f",
   "metadata": {
    "ExecuteTime": {
     "end_time": "2022-10-13T02:14:01.965819Z",
     "start_time": "2022-10-13T02:14:01.958839Z"
    }
   },
   "source": [
    "4) Faça um programa que leia a validade das informações:\n",
    "\n",
    "a. Idade: entre 0 e 150;\n",
    "\n",
    "b. Salário: maior que 0;\n",
    "\n",
    "c. Sexo: M, F ou Outro;\n",
    "\n",
    "O programa deve imprimir uma mensagem de erro para cada informação inválida."
   ]
  },
  {
   "cell_type": "code",
   "execution_count": 31,
   "id": "a1a21ec4",
   "metadata": {},
   "outputs": [
    {
     "name": "stdout",
     "output_type": "stream",
     "text": [
      "Valor inválido\n"
     ]
    }
   ],
   "source": [
    "idade=int(input(\"Digite a idade: \"))\n",
    "salario=float(input(\"Digite o salário: \"))\n",
    "sexo=input(\"Digite o sexo (M, F ou Outro): \")\n",
    "\n",
    "if idade < 0 or idade > 150:\n",
    "    print (\"\\nA idade digitada deve ser entre 0 e 150\")\n",
    "if salario <= 0:\n",
    "    print (\"\\nO salário digitado deve ser maior que 0\")\n",
    "if sexo != \"F\" and sexo != \"M\" and sexo != \"Outro\":\n",
    "    print (\"\\nO sexo deve ser M, F ou Outro!\")\n"
   ]
  },
  {
   "cell_type": "markdown",
   "id": "4171857e",
   "metadata": {},
   "source": [
    "5) Escreva um programa que peça a nota de 3 provas de um aluno e verifique se ele passou ou não de ano.\n",
    "Obs.: O aluno irá passar de ano se sua média for maior que 6."
   ]
  },
  {
   "cell_type": "code",
   "execution_count": null,
   "id": "a9246029",
   "metadata": {},
   "outputs": [],
   "source": []
  },
  {
   "cell_type": "markdown",
   "id": "f23c8b47",
   "metadata": {},
   "source": [
    "6) Faça um programa que mostre uma questão de múltipla escolha com 5 opções (letras a, b, c, d, e). \n",
    "Sabendo a resposta certa, o programa deve receber a opção do usuário e informar a letra que o usuário marcou e se a resposta está certa ou errada."
   ]
  },
  {
   "cell_type": "code",
   "execution_count": null,
   "id": "755c8b37",
   "metadata": {},
   "outputs": [],
   "source": []
  },
  {
   "cell_type": "markdown",
   "id": "00edeaec",
   "metadata": {},
   "source": [
    "7)\n",
    "Vamos fazer um programa para verificar quem é o assassino de um crime. Para descobrir o assassino, \n",
    "a polícia faz um pequeno questionário com 5 perguntas \n",
    "onde a resposta só pode ser sim ou não:\n",
    "\n",
    "a. Mora perto da vítima?\n",
    "\n",
    "b. Já trabalhou com a vítima?\n",
    "\n",
    "c. Telefonou para a vítima?\n",
    "\n",
    "d. Esteve no local do crime?\n",
    "\n",
    "e. Devia para a vítima?\n",
    "\n",
    "Cada resposta sim dá um ponto para o suspeito. A polícia considera que os suspeitos com 5 pontos são os assassinos, com 4 a 3 pontos \n",
    "são cúmplices e 2 pontos são apenas suspeitos, necessitando outras investigações. Valores iguais ou abaixo de 1 são liberados.'''"
   ]
  },
  {
   "cell_type": "code",
   "execution_count": null,
   "id": "fa67925d",
   "metadata": {},
   "outputs": [],
   "source": []
  },
  {
   "cell_type": "markdown",
   "id": "d68cb36b",
   "metadata": {
    "ExecuteTime": {
     "end_time": "2022-10-13T02:15:54.837527Z",
     "start_time": "2022-10-13T02:15:54.826530Z"
    }
   },
   "source": [
    "8) Um produto vai sofrer aumento de acordo com a Tabela 1 abaixo. Faça um programa que peça para o usuário digitar o valor do produto de acordo \n",
    "com o preço antigo e escreva uma das mensagens da Tabela 2, de acordo com o preço reajustado:\n",
    "\n",
    "Tabela 1\n",
    "\n",
    "| Preço Antigo         | % de aumento |\n",
    "|----------------------|--------------|\n",
    "| Até 50 reais         | 5%           |\n",
    "| Entre 50 e 100 reais | 10%          |\n",
    "| De 100 a 150 reais   | 13%          |\n",
    "| Acima de 150 reais   | 15%          |\n",
    "\n",
    "Tabela 2\n",
    "\n",
    "| Preço Novo            | Mensagem   |\n",
    "|-----------------------|------------|\n",
    "| Até 80 reais          | Barato     |\n",
    "| Entre 80 e 115 reais  | Razoável   |\n",
    "| Entre 115 e 150 reais | Normal     |\n",
    "| Entre 150 e 170 reais | Caro       |\n",
    "| Acima de 170 reais    | Muito Caro |"
   ]
  },
  {
   "cell_type": "code",
   "execution_count": null,
   "id": "cdba835c",
   "metadata": {},
   "outputs": [],
   "source": []
  },
  {
   "cell_type": "markdown",
   "id": "e1ceb826",
   "metadata": {},
   "source": [
    "9) Desafio 1 - Faça um programa que leia 3 números e informe o maior deles."
   ]
  },
  {
   "cell_type": "code",
   "execution_count": null,
   "id": "62f6041c",
   "metadata": {},
   "outputs": [],
   "source": [
    "\n"
   ]
  }
 ],
 "metadata": {
  "kernelspec": {
   "display_name": "Python 3.10.7 64-bit",
   "language": "python",
   "name": "python3"
  },
  "language_info": {
   "codemirror_mode": {
    "name": "ipython",
    "version": 3
   },
   "file_extension": ".py",
   "mimetype": "text/x-python",
   "name": "python",
   "nbconvert_exporter": "python",
   "pygments_lexer": "ipython3",
   "version": "3.10.7"
  },
  "varInspector": {
   "cols": {
    "lenName": 16,
    "lenType": 16,
    "lenVar": 40
   },
   "kernels_config": {
    "python": {
     "delete_cmd_postfix": "",
     "delete_cmd_prefix": "del ",
     "library": "var_list.py",
     "varRefreshCmd": "print(var_dic_list())"
    },
    "r": {
     "delete_cmd_postfix": ") ",
     "delete_cmd_prefix": "rm(",
     "library": "var_list.r",
     "varRefreshCmd": "cat(var_dic_list()) "
    }
   },
   "types_to_exclude": [
    "module",
    "function",
    "builtin_function_or_method",
    "instance",
    "_Feature"
   ],
   "window_display": false
  },
  "vscode": {
   "interpreter": {
    "hash": "8e422274af7bea950b99ce5931db79f336f723780200fdaaaa6fd2c62e737577"
   }
  }
 },
 "nbformat": 4,
 "nbformat_minor": 5
}
