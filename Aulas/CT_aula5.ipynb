{
 "cells": [
  {
   "cell_type": "markdown",
   "metadata": {},
   "source": [
    "# Funções\n",
    "## Tópicos da aula\n",
    "- Intuição das funções\n",
    "- Parâmetros\n",
    "- Retorno\n",
    "- Bônus: Recursão"
   ]
  },
  {
   "cell_type": "markdown",
   "metadata": {},
   "source": [
    "Criar um programa que calcule o volume de um cilindro dado o raio r e a altura h."
   ]
  },
  {
   "cell_type": "markdown",
   "metadata": {},
   "source": [
    "Volume de um cilindro\n",
    "\n",
    "<img src= 'https://neurochispas.com.br/wp-content/uploads/2021/08/formula-para-o-volume-do-cilindro.png' width=\"200\">"
   ]
  },
  {
   "cell_type": "code",
   "execution_count": 6,
   "metadata": {},
   "outputs": [
    {
     "name": "stdout",
     "output_type": "stream",
     "text": [
      "A altura é 10.0 e o raio é 2.0\n",
      "O volume do cilindro é 125.60000000000001\n"
     ]
    }
   ],
   "source": [
    "h = float(input('Digite a altura: '))\n",
    "r = float(input('Digite o raio: '))\n",
    "\n",
    "volume = 3.14 * (r ** 2) * h\n",
    "\n",
    "print(f'A altura é {h} e o raio é {r}')\n",
    "print(f'O volume do cilindro é {volume}')"
   ]
  },
  {
   "cell_type": "markdown",
   "metadata": {},
   "source": [
    "Calcular a área do trapézio dado os valores necessários.\n",
    "\n",
    "<img src='https://www.matematica.pt/images/faq/calcular-area-trapezio.png' width='300'>"
   ]
  },
  {
   "cell_type": "code",
   "execution_count": 4,
   "metadata": {},
   "outputs": [
    {
     "name": "stdout",
     "output_type": "stream",
     "text": [
      "Area é: 30.0\n"
     ]
    }
   ],
   "source": [
    "h = float(input('Digite a altura do trapézio: '))\n",
    "teste = float(input())\n",
    "b = float(input('Digite a base inferior: '))\n",
    "B = float(input('Digite a base superior: '))\n",
    "\n",
    "area = ((B+b)*h)/2\n",
    "\n",
    "print('Area é:', area)\n"
   ]
  },
  {
   "cell_type": "markdown",
   "metadata": {},
   "source": [
    "E se quisermos utilizar diversas vezes o mesmo programa?\n",
    "\n",
    "Para isso podemos usar as **funções**\n",
    "\n",
    "Para definir uma função utilizamos a palavra `def`"
   ]
  },
  {
   "cell_type": "code",
   "execution_count": null,
   "metadata": {},
   "outputs": [],
   "source": [
    "def nome_funcao():\n",
    "    to do"
   ]
  },
  {
   "cell_type": "code",
   "execution_count": 7,
   "metadata": {},
   "outputs": [],
   "source": [
    "# def para definir uma função\n",
    "# o nome da função é imprime_linhas\n",
    "# () dentro destes parênteses estão os parâmetros que eu espero que sejam passados para a minha função\n",
    "# termina a linha com :\n",
    "\n",
    "def imprime_linhas():\n",
    "    print('linha1')\n",
    "    print('linha2')\n",
    "    print('linha3')"
   ]
  },
  {
   "cell_type": "markdown",
   "metadata": {},
   "source": [
    "E como eu faço para chamar a função?"
   ]
  },
  {
   "cell_type": "code",
   "execution_count": 8,
   "metadata": {},
   "outputs": [
    {
     "name": "stdout",
     "output_type": "stream",
     "text": [
      "linha1\n",
      "linha2\n",
      "linha3\n"
     ]
    }
   ],
   "source": [
    "# chamar pelo nome da função -> para executar a função\n",
    "\n",
    "imprime_linhas()"
   ]
  },
  {
   "cell_type": "code",
   "execution_count": 9,
   "metadata": {},
   "outputs": [],
   "source": [
    "# E no nosso exemplo do volume de um cilindro?\n",
    "\n",
    "def volume_cilindro():\n",
    "    h = float(input('Digite a altura: '))\n",
    "    r = float(input('Digite o raio: '))\n",
    "\n",
    "    volume = 3.14 * (r ** 2) * h\n",
    "\n",
    "    print(f'A altura é {h} e o raio é {r}')\n",
    "    print(f'O volume do cilindro é {volume}')\n",
    "    "
   ]
  },
  {
   "cell_type": "code",
   "execution_count": 10,
   "metadata": {},
   "outputs": [
    {
     "name": "stdout",
     "output_type": "stream",
     "text": [
      "A altura é 10.0 e o raio é 2.0\n",
      "O volume do cilindro é 125.60000000000001\n"
     ]
    }
   ],
   "source": [
    "volume_cilindro()"
   ]
  },
  {
   "cell_type": "markdown",
   "metadata": {},
   "source": [
    "## Parâmetros da função"
   ]
  },
  {
   "cell_type": "code",
   "execution_count": 11,
   "metadata": {},
   "outputs": [],
   "source": [
    "# Os parênteses servem para definirmos parâmetros da função\n",
    "# Parâmetros são valores que a função pode querer utilizar\n",
    "# Diz-se que o parâmetro é recebido pela função\n",
    "\n",
    "def bom_dia(nome):\n",
    "    print(f'Bom dia {nome}')"
   ]
  },
  {
   "cell_type": "code",
   "execution_count": 12,
   "metadata": {},
   "outputs": [
    {
     "name": "stdout",
     "output_type": "stream",
     "text": [
      "Bom dia Thiago\n"
     ]
    }
   ],
   "source": [
    "bom_dia('Thiago')"
   ]
  },
  {
   "cell_type": "code",
   "execution_count": 13,
   "metadata": {},
   "outputs": [
    {
     "name": "stdout",
     "output_type": "stream",
     "text": [
      "Bom dia Lucas\n"
     ]
    }
   ],
   "source": [
    "nome_usuario = input('Digite seu nome:')\n",
    "\n",
    "bom_dia(nome_usuario)"
   ]
  },
  {
   "cell_type": "code",
   "execution_count": 14,
   "metadata": {},
   "outputs": [],
   "source": [
    "# podemos solicitar mais de um parâmetro\n",
    "\n",
    "def cadastro(nome, idade, cidade):\n",
    "    print(nome, 'tem', idade, \"anos e mora em\", cidade)"
   ]
  },
  {
   "cell_type": "code",
   "execution_count": 20,
   "metadata": {},
   "outputs": [
    {
     "name": "stdout",
     "output_type": "stream",
     "text": [
      "Thiago tem 26 anos e mora em Curitiba\n"
     ]
    }
   ],
   "source": [
    "cadastro('Thiago', 26, 'Curitiba')"
   ]
  },
  {
   "cell_type": "code",
   "execution_count": 25,
   "metadata": {},
   "outputs": [
    {
     "name": "stdout",
     "output_type": "stream",
     "text": [
      "Thiago tem 26 anos e mora em Curitiba\n",
      "Thiago tem 26 anos e mora em Curitiba\n",
      "Thiago tem 26 anos e mora em None\n"
     ]
    }
   ],
   "source": [
    "cadastro('Thiago', 26, 'Curitiba') # passa apenas os parâmetros: TEM QUE PASSAR NA ORDEM\n",
    "\n",
    "cadastro(idade=26, cidade='Curitiba', nome='Thiago') # posso alterar a ordem desde que deixe explícito qual é o parâmetro\n",
    "\n",
    "cadastro(nome='Thiago', idade = 26, cidade = None) # podemos ainda passar um dos parâmetros como vazio"
   ]
  },
  {
   "cell_type": "code",
   "execution_count": 3,
   "metadata": {},
   "outputs": [
    {
     "name": "stdout",
     "output_type": "stream",
     "text": [
      "Menor de idade\n"
     ]
    }
   ],
   "source": [
    "# Podemos atribuir um valor padrão para os parâmetros\n",
    "\n",
    "def maior_idade(idade=0):\n",
    "    if idade >= 18:\n",
    "        print(f'Maior de idade')\n",
    "    else:\n",
    "        print('Menor de idade')\n",
    "        \n",
    "maior_idade() # o que ele espera da idade? A idade = 0"
   ]
  },
  {
   "cell_type": "code",
   "execution_count": 4,
   "metadata": {},
   "outputs": [
    {
     "name": "stdout",
     "output_type": "stream",
     "text": [
      "Menor de idade\n",
      "Maior de idade\n"
     ]
    }
   ],
   "source": [
    "maior_idade() \n",
    "maior_idade(18) "
   ]
  },
  {
   "cell_type": "code",
   "execution_count": 5,
   "metadata": {},
   "outputs": [],
   "source": [
    "# podemos utilizar listas como parâmetros\n",
    "\n",
    "def somatorio(lista):\n",
    "    soma = 0\n",
    "    for elemento in lista:\n",
    "        soma = soma + elemento\n",
    "    print(soma)"
   ]
  },
  {
   "cell_type": "code",
   "execution_count": 6,
   "metadata": {},
   "outputs": [
    {
     "name": "stdout",
     "output_type": "stream",
     "text": [
      "25\n"
     ]
    }
   ],
   "source": [
    "numeros = [1,3,5,7,9] #lista\n",
    "somatorio(numeros)"
   ]
  },
  {
   "cell_type": "markdown",
   "metadata": {},
   "source": [
    "## Return"
   ]
  },
  {
   "cell_type": "code",
   "execution_count": null,
   "metadata": {},
   "outputs": [],
   "source": [
    "def nome_funcao():\n",
    "    return # retorna um valor da função (aproveitar o resultado para usar em outro lugar)"
   ]
  },
  {
   "cell_type": "code",
   "execution_count": 7,
   "metadata": {},
   "outputs": [],
   "source": [
    "def somatorio_return(lista):\n",
    "    soma = 0\n",
    "    for elemento in lista:\n",
    "        soma = soma + elemento\n",
    "    return soma # estamos retornando a variável com o valor da função"
   ]
  },
  {
   "cell_type": "code",
   "execution_count": 11,
   "metadata": {},
   "outputs": [
    {
     "name": "stdout",
     "output_type": "stream",
     "text": [
      "25\n"
     ]
    },
    {
     "data": {
      "text/plain": [
       "25"
      ]
     },
     "execution_count": 11,
     "metadata": {},
     "output_type": "execute_result"
    }
   ],
   "source": [
    "# Return possibilita armazenar numa variável\n",
    "\n",
    "somatorio(numeros)\n",
    "\n",
    "somatorio_return(numeros)"
   ]
  },
  {
   "cell_type": "code",
   "execution_count": 18,
   "metadata": {},
   "outputs": [
    {
     "name": "stdout",
     "output_type": "stream",
     "text": [
      "25\n",
      "variável None\n"
     ]
    }
   ],
   "source": [
    "var = somatorio(numeros)\n",
    "\n",
    "print('variável', var)"
   ]
  },
  {
   "cell_type": "code",
   "execution_count": 19,
   "metadata": {},
   "outputs": [
    {
     "name": "stdout",
     "output_type": "stream",
     "text": [
      "variável 25\n"
     ]
    }
   ],
   "source": [
    "var = somatorio_return(numeros)\n",
    "\n",
    "print('variável', var)"
   ]
  },
  {
   "cell_type": "code",
   "execution_count": 23,
   "metadata": {},
   "outputs": [],
   "source": [
    "var1, var2 = somatorio_return(numeros)"
   ]
  },
  {
   "cell_type": "code",
   "execution_count": 25,
   "metadata": {},
   "outputs": [],
   "source": [
    "def maior_idade(idade=0):\n",
    "    if (idade>=18):\n",
    "        return True\n",
    "    else:\n",
    "        return False"
   ]
  },
  {
   "cell_type": "code",
   "execution_count": 26,
   "metadata": {},
   "outputs": [
    {
     "data": {
      "text/plain": [
       "False"
      ]
     },
     "execution_count": 26,
     "metadata": {},
     "output_type": "execute_result"
    }
   ],
   "source": [
    "maior_idade()"
   ]
  },
  {
   "cell_type": "code",
   "execution_count": 27,
   "metadata": {},
   "outputs": [
    {
     "data": {
      "text/plain": [
       "True"
      ]
     },
     "execution_count": 27,
     "metadata": {},
     "output_type": "execute_result"
    }
   ],
   "source": [
    "maior_idade(18)"
   ]
  },
  {
   "cell_type": "code",
   "execution_count": 28,
   "metadata": {},
   "outputs": [
    {
     "name": "stdout",
     "output_type": "stream",
     "text": [
      "Era maior\n"
     ]
    }
   ],
   "source": [
    "idade = int(input('Digite sua idade: '))\n",
    "\n",
    "if (maior_idade(idade)): # usar função que tenha return dentro de uma condição  -> If True:\n",
    "    print('Era maior')\n",
    "else: # If False, caso contrário\n",
    "    print('Não era')"
   ]
  },
  {
   "cell_type": "markdown",
   "metadata": {},
   "source": [
    "1. Escreva uma função que calcule e retorne o dobro de um número inserido. Teste este caso solicitando ao usuário que insira um número e após isso, retorne a resposta."
   ]
  },
  {
   "cell_type": "code",
   "execution_count": 29,
   "metadata": {},
   "outputs": [
    {
     "name": "stdout",
     "output_type": "stream",
     "text": [
      "Valor inicial: 5.0\n",
      "Valor dobrado: 10.0\n"
     ]
    }
   ],
   "source": [
    "def dobro(num):\n",
    "    numDobrado = num * 2\n",
    "    return numDobrado\n",
    "\n",
    "num = float(input('Digite um valor: '))\n",
    "print(f'''Valor inicial: {num}\n",
    "Valor dobrado: {dobro(num)}''')"
   ]
  },
  {
   "cell_type": "code",
   "execution_count": 33,
   "metadata": {},
   "outputs": [
    {
     "data": {
      "text/plain": [
       "10"
      ]
     },
     "execution_count": 33,
     "metadata": {},
     "output_type": "execute_result"
    }
   ],
   "source": [
    "def dobro(x):\n",
    "  return x*2\n",
    "\n",
    "dobro(5)"
   ]
  },
  {
   "cell_type": "markdown",
   "metadata": {},
   "source": [
    "2. Crie uma função para cálculo do comprimento da circunferência (C = 2 * 3.14 * R), sendo C o comprimento e R o raio da circunferência "
   ]
  },
  {
   "cell_type": "code",
   "execution_count": 34,
   "metadata": {},
   "outputs": [
    {
     "name": "stdout",
     "output_type": "stream",
     "text": [
      "25.12\n"
     ]
    }
   ],
   "source": [
    "def calcular_circunferencia(r):\n",
    "    C=2*3.14*r\n",
    "    return C\n",
    "\n",
    "print(calcular_circunferencia(int(input('Digite o raio: '))))"
   ]
  },
  {
   "cell_type": "markdown",
   "metadata": {},
   "source": [
    "3. Faça uma função que emita uma saudação baseada no horário. A função deve receber o nome e o horário (apenas número inteiro) e emita a mensagem com as seguintes condições:\n",
    "- até meio dia (não incluso): \"Bom dia, (VARIAVEL_NOME)\"\n",
    "- entre meio dia (incluso) e 18h (não incluso): \"Boa tarde, (VARIAVEL_NOME)\"\n",
    "- após as 18h (incluso): \"Boa noite, (VARIAVEL_NOME)\""
   ]
  },
  {
   "cell_type": "code",
   "execution_count": 35,
   "metadata": {},
   "outputs": [
    {
     "name": "stdout",
     "output_type": "stream",
     "text": [
      "Boa noite, Renata\n"
     ]
    }
   ],
   "source": [
    "def saudacao(nome, horario):\n",
    "  if horario >= 0 and horario <= 12:\n",
    "    print(f'Bom dia, {nome}')\n",
    "  elif horario > 12 and horario <= 18:\n",
    "    print(f'Boa tarde, {nome}')\n",
    "  else:\n",
    "    print(f'Boa noite, {nome}')\n",
    "\n",
    "x = input('Digite seu nome')\n",
    "y = int(input('Digite um horário entre 0 a 23 (apenas números): '))\n",
    "\n",
    "saudacao(x, y)"
   ]
  },
  {
   "cell_type": "markdown",
   "metadata": {},
   "source": [
    "4. Faça uma função que verifique se um número é par. Teste esta função solicitando ao usuário que digite um número e emitindo a mensagem adequada caso o número seja par ou não."
   ]
  },
  {
   "cell_type": "code",
   "execution_count": 39,
   "metadata": {},
   "outputs": [
    {
     "name": "stdout",
     "output_type": "stream",
     "text": [
      "O número é ímpar!\n"
     ]
    }
   ],
   "source": [
    "def eh_par(num):\n",
    "    if (num%2 == 0):\n",
    "        return True\n",
    "    else:\n",
    "        return False\n",
    "    \n",
    "numero = int(input('Digite um número inteiro qualquer - '))\n",
    "\n",
    "if eh_par(numero):\n",
    "    print('Sim! O número é par.')\n",
    "else:\n",
    "    print('O número é ímpar!')"
   ]
  },
  {
   "cell_type": "code",
   "execution_count": 40,
   "metadata": {},
   "outputs": [
    {
     "data": {
      "text/plain": [
       "'3 é um número ímpar'"
      ]
     },
     "execution_count": 40,
     "metadata": {},
     "output_type": "execute_result"
    }
   ],
   "source": [
    "def verif_par(num):\n",
    "    if num%2==0:\n",
    "        msg=f\"{num} é um número par.\"\n",
    "    else:\n",
    "        msg=f\"{num} é um número ímpar\"\n",
    "    \n",
    "    return msg\n",
    "\n",
    "verif_par(int(input(\"Digite um número:\")))"
   ]
  },
  {
   "cell_type": "markdown",
   "metadata": {},
   "source": [
    "5. Crie uma função que recebe duas listas. Caso estas duas listas sejam do mesmo tamanho some os elementos de cada lista com mesmo índica, caso contrário retorne uma lista vazia.\n",
    "Se as duas listas de entrada forem do mesmo tamanho o programa deve se comportar como no exemplo:\n",
    "```python\n",
    "lista_01 = [1, 2, 3, 4, 5]\n",
    "lista_02 = [6, 7, 8, 9, 10]\n",
    "\n",
    "soma_listas(lista_01, lista_02)\n",
    "```\n",
    "saída:\n",
    "\n",
    "```\n",
    "[7, 9, 11, 13, 15]\n",
    "```"
   ]
  },
  {
   "cell_type": "code",
   "execution_count": null,
   "metadata": {},
   "outputs": [],
   "source": []
  },
  {
   "cell_type": "markdown",
   "metadata": {},
   "source": [
    "6. Utilize a mesma lógica do exercício anterior, porém agora você deve multiplicar os elementos ao invés de somá-los."
   ]
  },
  {
   "cell_type": "code",
   "execution_count": null,
   "metadata": {},
   "outputs": [],
   "source": []
  },
  {
   "cell_type": "markdown",
   "metadata": {},
   "source": [
    "7. Faça uma função que recebe uma lista de números e calcula a média destes números."
   ]
  },
  {
   "cell_type": "code",
   "execution_count": null,
   "metadata": {},
   "outputs": [],
   "source": []
  },
  {
   "cell_type": "markdown",
   "metadata": {},
   "source": [
    "8. Faça uma função que calcula o fatorial de um número."
   ]
  },
  {
   "cell_type": "code",
   "execution_count": null,
   "metadata": {},
   "outputs": [],
   "source": []
  }
 ],
 "metadata": {
  "kernelspec": {
   "display_name": "Python 3.10.7 64-bit",
   "language": "python",
   "name": "python3"
  },
  "language_info": {
   "codemirror_mode": {
    "name": "ipython",
    "version": 3
   },
   "file_extension": ".py",
   "mimetype": "text/x-python",
   "name": "python",
   "nbconvert_exporter": "python",
   "pygments_lexer": "ipython3",
   "version": "3.10.7"
  },
  "orig_nbformat": 4,
  "vscode": {
   "interpreter": {
    "hash": "8e422274af7bea950b99ce5931db79f336f723780200fdaaaa6fd2c62e737577"
   }
  }
 },
 "nbformat": 4,
 "nbformat_minor": 2
}
